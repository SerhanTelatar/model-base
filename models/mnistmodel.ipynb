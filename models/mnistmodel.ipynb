{
  "cells": [
    {
      "cell_type": "code",
      "execution_count": 10,
      "metadata": {
        "id": "B4xrSocJWiId"
      },
      "outputs": [
        {
          "name": "stdout",
          "output_type": "stream",
          "text": [
            "Collecting matplotlib\n",
            "  Downloading matplotlib-3.9.0-cp310-cp310-win_amd64.whl.metadata (11 kB)\n",
            "Collecting contourpy>=1.0.1 (from matplotlib)\n",
            "  Downloading contourpy-1.2.1-cp310-cp310-win_amd64.whl.metadata (5.8 kB)\n",
            "Collecting cycler>=0.10 (from matplotlib)\n",
            "  Downloading cycler-0.12.1-py3-none-any.whl.metadata (3.8 kB)\n",
            "Collecting fonttools>=4.22.0 (from matplotlib)\n",
            "  Downloading fonttools-4.53.0-cp310-cp310-win_amd64.whl.metadata (165 kB)\n",
            "     ---------------------------------------- 0.0/165.5 kB ? eta -:--:--\n",
            "     ------- ------------------------------- 30.7/165.5 kB 1.3 MB/s eta 0:00:01\n",
            "     ----------------------- -------------- 102.4/165.5 kB 1.2 MB/s eta 0:00:01\n",
            "     -------------------------------------- 165.5/165.5 kB 1.2 MB/s eta 0:00:00\n",
            "Collecting kiwisolver>=1.3.1 (from matplotlib)\n",
            "  Downloading kiwisolver-1.4.5-cp310-cp310-win_amd64.whl.metadata (6.5 kB)\n",
            "Requirement already satisfied: numpy>=1.23 in c:\\users\\90553\\documents\\github\\model-base\\env\\lib\\site-packages (from matplotlib) (1.26.4)\n",
            "Requirement already satisfied: packaging>=20.0 in c:\\users\\90553\\documents\\github\\model-base\\env\\lib\\site-packages (from matplotlib) (24.1)\n",
            "Requirement already satisfied: pillow>=8 in c:\\users\\90553\\documents\\github\\model-base\\env\\lib\\site-packages (from matplotlib) (10.3.0)\n",
            "Collecting pyparsing>=2.3.1 (from matplotlib)\n",
            "  Downloading pyparsing-3.1.2-py3-none-any.whl.metadata (5.1 kB)\n",
            "Requirement already satisfied: python-dateutil>=2.7 in c:\\users\\90553\\documents\\github\\model-base\\env\\lib\\site-packages (from matplotlib) (2.9.0.post0)\n",
            "Requirement already satisfied: six>=1.5 in c:\\users\\90553\\documents\\github\\model-base\\env\\lib\\site-packages (from python-dateutil>=2.7->matplotlib) (1.16.0)\n",
            "Downloading matplotlib-3.9.0-cp310-cp310-win_amd64.whl (8.0 MB)\n",
            "   ---------------------------------------- 0.0/8.0 MB ? eta -:--:--\n",
            "   ---------------------------------------- 0.1/8.0 MB 4.1 MB/s eta 0:00:02\n",
            "   ---------------------------------------- 0.1/8.0 MB 1.1 MB/s eta 0:00:08\n",
            "   - -------------------------------------- 0.2/8.0 MB 1.8 MB/s eta 0:00:05\n",
            "   - -------------------------------------- 0.3/8.0 MB 1.7 MB/s eta 0:00:05\n",
            "   -- ------------------------------------- 0.5/8.0 MB 2.0 MB/s eta 0:00:04\n",
            "   --- ------------------------------------ 0.6/8.0 MB 2.2 MB/s eta 0:00:04\n",
            "   ---- ----------------------------------- 0.8/8.0 MB 2.4 MB/s eta 0:00:03\n",
            "   ---- ----------------------------------- 0.9/8.0 MB 2.5 MB/s eta 0:00:03\n",
            "   ----- ---------------------------------- 1.1/8.0 MB 2.6 MB/s eta 0:00:03\n",
            "   ------ --------------------------------- 1.2/8.0 MB 2.6 MB/s eta 0:00:03\n",
            "   ------- -------------------------------- 1.4/8.0 MB 2.7 MB/s eta 0:00:03\n",
            "   ------- -------------------------------- 1.6/8.0 MB 2.8 MB/s eta 0:00:03\n",
            "   -------- ------------------------------- 1.7/8.0 MB 2.8 MB/s eta 0:00:03\n",
            "   --------- ------------------------------ 1.9/8.0 MB 2.8 MB/s eta 0:00:03\n",
            "   ---------- ----------------------------- 2.0/8.0 MB 2.9 MB/s eta 0:00:03\n",
            "   ---------- ----------------------------- 2.2/8.0 MB 2.9 MB/s eta 0:00:03\n",
            "   ----------- ---------------------------- 2.3/8.0 MB 2.9 MB/s eta 0:00:02\n",
            "   ------------ --------------------------- 2.5/8.0 MB 2.9 MB/s eta 0:00:02\n",
            "   ------------- -------------------------- 2.6/8.0 MB 3.0 MB/s eta 0:00:02\n",
            "   -------------- ------------------------- 2.8/8.0 MB 3.0 MB/s eta 0:00:02\n",
            "   -------------- ------------------------- 3.0/8.0 MB 3.0 MB/s eta 0:00:02\n",
            "   --------------- ------------------------ 3.0/8.0 MB 3.0 MB/s eta 0:00:02\n",
            "   --------------- ------------------------ 3.0/8.0 MB 3.0 MB/s eta 0:00:02\n",
            "   ----------------- ---------------------- 3.4/8.0 MB 3.0 MB/s eta 0:00:02\n",
            "   ----------------- ---------------------- 3.5/8.0 MB 3.0 MB/s eta 0:00:02\n",
            "   ------------------ --------------------- 3.7/8.0 MB 3.0 MB/s eta 0:00:02\n",
            "   ------------------- -------------------- 3.8/8.0 MB 3.0 MB/s eta 0:00:02\n",
            "   ------------------- -------------------- 3.9/8.0 MB 3.0 MB/s eta 0:00:02\n",
            "   -------------------- ------------------- 4.1/8.0 MB 3.0 MB/s eta 0:00:02\n",
            "   --------------------- ------------------ 4.2/8.0 MB 3.0 MB/s eta 0:00:02\n",
            "   --------------------- ------------------ 4.3/8.0 MB 3.0 MB/s eta 0:00:02\n",
            "   ---------------------- ----------------- 4.5/8.0 MB 3.0 MB/s eta 0:00:02\n",
            "   ----------------------- ---------------- 4.6/8.0 MB 3.0 MB/s eta 0:00:02\n",
            "   ----------------------- ---------------- 4.7/8.0 MB 3.0 MB/s eta 0:00:02\n",
            "   ------------------------ --------------- 4.9/8.0 MB 3.0 MB/s eta 0:00:02\n",
            "   ------------------------- -------------- 5.0/8.0 MB 3.0 MB/s eta 0:00:01\n",
            "   ------------------------- -------------- 5.2/8.0 MB 3.0 MB/s eta 0:00:01\n",
            "   -------------------------- ------------- 5.3/8.0 MB 3.0 MB/s eta 0:00:01\n",
            "   --------------------------- ------------ 5.4/8.0 MB 3.0 MB/s eta 0:00:01\n",
            "   --------------------------- ------------ 5.6/8.0 MB 3.0 MB/s eta 0:00:01\n",
            "   ---------------------------- ----------- 5.7/8.0 MB 3.0 MB/s eta 0:00:01\n",
            "   ----------------------------- ---------- 5.8/8.0 MB 3.0 MB/s eta 0:00:01\n",
            "   ----------------------------- ---------- 6.0/8.0 MB 3.0 MB/s eta 0:00:01\n",
            "   ------------------------------ --------- 6.1/8.0 MB 2.9 MB/s eta 0:00:01\n",
            "   ------------------------------- -------- 6.2/8.0 MB 3.0 MB/s eta 0:00:01\n",
            "   -------------------------------- ------- 6.4/8.0 MB 2.9 MB/s eta 0:00:01\n",
            "   -------------------------------- ------- 6.5/8.0 MB 2.9 MB/s eta 0:00:01\n",
            "   --------------------------------- ------ 6.6/8.0 MB 2.9 MB/s eta 0:00:01\n",
            "   ---------------------------------- ----- 6.8/8.0 MB 3.0 MB/s eta 0:00:01\n",
            "   ---------------------------------- ----- 6.9/8.0 MB 3.0 MB/s eta 0:00:01\n",
            "   ----------------------------------- ---- 7.1/8.0 MB 3.0 MB/s eta 0:00:01\n",
            "   ------------------------------------ --- 7.2/8.0 MB 3.0 MB/s eta 0:00:01\n",
            "   ------------------------------------ --- 7.2/8.0 MB 2.9 MB/s eta 0:00:01\n",
            "   ------------------------------------ --- 7.4/8.0 MB 2.9 MB/s eta 0:00:01\n",
            "   ------------------------------------- -- 7.5/8.0 MB 2.9 MB/s eta 0:00:01\n",
            "   -------------------------------------- - 7.6/8.0 MB 2.9 MB/s eta 0:00:01\n",
            "   -------------------------------------- - 7.7/8.0 MB 2.9 MB/s eta 0:00:01\n",
            "   ---------------------------------------  7.9/8.0 MB 2.9 MB/s eta 0:00:01\n",
            "   ---------------------------------------- 8.0/8.0 MB 2.9 MB/s eta 0:00:00\n",
            "Downloading contourpy-1.2.1-cp310-cp310-win_amd64.whl (187 kB)\n",
            "   ---------------------------------------- 0.0/187.5 kB ? eta -:--:--\n",
            "   -------------------------- ------------- 122.9/187.5 kB 3.6 MB/s eta 0:00:01\n",
            "   ---------------------------------------- 187.5/187.5 kB 2.9 MB/s eta 0:00:00\n",
            "Downloading cycler-0.12.1-py3-none-any.whl (8.3 kB)\n",
            "Downloading fonttools-4.53.0-cp310-cp310-win_amd64.whl (2.2 MB)\n",
            "   ---------------------------------------- 0.0/2.2 MB ? eta -:--:--\n",
            "   -- ------------------------------------- 0.2/2.2 MB 3.1 MB/s eta 0:00:01\n",
            "   ----- ---------------------------------- 0.3/2.2 MB 2.9 MB/s eta 0:00:01\n",
            "   ------- -------------------------------- 0.4/2.2 MB 3.0 MB/s eta 0:00:01\n",
            "   ---------- ----------------------------- 0.6/2.2 MB 3.0 MB/s eta 0:00:01\n",
            "   ------------- -------------------------- 0.7/2.2 MB 3.1 MB/s eta 0:00:01\n",
            "   ---------------- ----------------------- 0.9/2.2 MB 3.1 MB/s eta 0:00:01\n",
            "   ------------------- -------------------- 1.1/2.2 MB 3.2 MB/s eta 0:00:01\n",
            "   --------------------- ------------------ 1.2/2.2 MB 3.2 MB/s eta 0:00:01\n",
            "   ------------------------ --------------- 1.4/2.2 MB 3.2 MB/s eta 0:00:01\n",
            "   --------------------------- ------------ 1.5/2.2 MB 3.2 MB/s eta 0:00:01\n",
            "   ----------------------------- ---------- 1.6/2.2 MB 3.2 MB/s eta 0:00:01\n",
            "   -------------------------------- ------- 1.8/2.2 MB 3.2 MB/s eta 0:00:01\n",
            "   ----------------------------------- ---- 2.0/2.2 MB 3.2 MB/s eta 0:00:01\n",
            "   -------------------------------------- - 2.1/2.2 MB 3.2 MB/s eta 0:00:01\n",
            "   ---------------------------------------- 2.2/2.2 MB 3.2 MB/s eta 0:00:00\n",
            "Downloading kiwisolver-1.4.5-cp310-cp310-win_amd64.whl (56 kB)\n",
            "   ---------------------------------------- 0.0/56.1 kB ? eta -:--:--\n",
            "   ---------------------------------------- 56.1/56.1 kB 2.9 MB/s eta 0:00:00\n",
            "Downloading pyparsing-3.1.2-py3-none-any.whl (103 kB)\n",
            "   ---------------------------------------- 0.0/103.2 kB ? eta -:--:--\n",
            "   ---------------------------------------- 103.2/103.2 kB 3.0 MB/s eta 0:00:00\n",
            "Installing collected packages: pyparsing, kiwisolver, fonttools, cycler, contourpy, matplotlib\n",
            "Successfully installed contourpy-1.2.1 cycler-0.12.1 fonttools-4.53.0 kiwisolver-1.4.5 matplotlib-3.9.0 pyparsing-3.1.2\n"
          ]
        }
      ],
      "source": [
        "#!pip install pandas\n",
        "#!pip install tensorflow\n",
        "#!pip install pillow\n",
        "!pip install matplotlib"
      ]
    },
    {
      "cell_type": "code",
      "execution_count": 11,
      "metadata": {},
      "outputs": [],
      "source": [
        "import numpy as np\n",
        "import pandas as pd\n",
        "import tensorflow as tf\n",
        "\n",
        "from PIL import Image\n",
        "import matplotlib.pyplot as plt"
      ]
    },
    {
      "cell_type": "code",
      "execution_count": 12,
      "metadata": {
        "id": "_YyDjxHNWwJI"
      },
      "outputs": [],
      "source": [
        "(x_train, y_train), (x_test, y_test) = tf.keras.datasets.mnist.load_data()\n",
        "\n"
      ]
    },
    {
      "cell_type": "code",
      "execution_count": 13,
      "metadata": {
        "id": "5QuOOfKvW8MK"
      },
      "outputs": [],
      "source": [
        "\n",
        "x_train = x_train.reshape((-1, 28, 28, 1)).astype(\"float32\") / 255.0\n",
        "x_test = x_test.reshape((-1, 28, 28, 1)).astype(\"float32\") / 255.0\n",
        "\n",
        "y_train = tf.keras.utils.to_categorical(y_train, 10)\n",
        "y_test = tf.keras.utils.to_categorical(y_test, 10)\n",
        "\n",
        "input_shape = (28,28,1)\n"
      ]
    },
    {
      "cell_type": "code",
      "execution_count": null,
      "metadata": {
        "colab": {
          "base_uri": "https://localhost:8080/",
          "height": 452
        },
        "id": "UGEa2uNoQAMn",
        "outputId": "985d8093-6ac3-4e7c-fde8-78854ad15ff7"
      },
      "outputs": [],
      "source": []
    },
    {
      "cell_type": "code",
      "execution_count": 37,
      "metadata": {
        "id": "SJK0oNJFW_jx"
      },
      "outputs": [],
      "source": [
        "def lenet5(input_shape):\n",
        "    model = tf.keras.Sequential()\n",
        "\n",
        "    model.add(tf.keras.layers.Conv2D(filters=32, kernel_size=3, strides=(1,1), activation=\"relu\", input_shape=input_shape))\n",
        "    model.add(tf.keras.layers.BatchNormalization())\n",
        "\n",
        "    model.add(tf.keras.layers.Conv2D(filters=32, kernel_size=3, strides=(1,1), activation=\"relu\"))\n",
        "    model.add(tf.keras.layers.BatchNormalization())\n",
        "\n",
        "    model.add(tf.keras.layers.Conv2D(filters=32, kernel_size=3, strides=(2,2), activation=\"relu\", padding=\"same\"))\n",
        "    model.add(tf.keras.layers.BatchNormalization())\n",
        "    model.add(tf.keras.layers.Dropout(0.4))\n",
        "\n",
        "\n",
        "\n",
        "    model.add(tf.keras.layers.Conv2D(filters=64, kernel_size=3, strides=(1,1), activation=\"relu\"))\n",
        "    model.add(tf.keras.layers.BatchNormalization())\n",
        "\n",
        "    model.add(tf.keras.layers.Conv2D(filters=64, kernel_size=3, strides=(1,1), activation=\"relu\"))\n",
        "    model.add(tf.keras.layers.BatchNormalization())\n",
        "\n",
        "    model.add(tf.keras.layers.Conv2D(filters=64, kernel_size=5, strides=(2,2), activation=\"relu\", padding=\"same\"))\n",
        "    model.add(tf.keras.layers.BatchNormalization())\n",
        "    model.add(tf.keras.layers.Dropout(0.4))\n",
        "\n",
        "    model.add(tf.keras.layers.Conv2D(filters=128, kernel_size=4, strides=(1,1), activation=\"relu\"))\n",
        "    model.add(tf.keras.layers.BatchNormalization())\n",
        "    model.add(tf.keras.layers.Flatten())\n",
        "    model.add(tf.keras.layers.Dropout(0.4))\n",
        "    model.add(tf.keras.layers.Dense(units=10,activation=\"softmax\"))\n",
        "\n",
        "\n",
        "    model.compile(loss='categorical_crossentropy', optimizer=tf.keras.optimizers.SGD(learning_rate=0.1), metrics=['accuracy'])\n",
        "\n",
        "    return model"
      ]
    },
    {
      "cell_type": "code",
      "execution_count": 38,
      "metadata": {
        "id": "zM_u776CJXo9"
      },
      "outputs": [
        {
          "data": {
            "text/plain": [
              "'def alexnet(input_shape):\\n    model = tf.keras.Sequential()\\n    model.add(tf.keras.layers.Conv2D(filters=6, kernel_size=(5,5), stride=(1,1), activation=\"relu\", input_shape=input_shape))\\n    model.add(tf.keras.layers.MaxPool2D(pool_size=(2,2), strides=(2,2)))\\n\\n    model.add(tf.keras.layers.Conv2D(filters=6, kernel_size=(5, 5), stride=(1,1), activation=\"relu\"))\\n    model.add(tf.keras.layers.MaxPool2D(pool_size=(2,2), strides=(2,2)))\\n\\n    model.add(tf.keras.layers.Conv2D(filters=12, kernel_size=(2,2), stride=(1,1), activation=\"relu\"))\\n    model.add(tf.keras.layers.Conv2D(filters=12, kernel_size=(2,2), stride=(1,1), activation=\"relu\"))\\n    model.add(tf.keras.layers.Conv2D(filters=12, kernel_size=(2,2), stride=(1,1), activation=\"relu\"))\\n\\n    model.add(tf.keras.layers.MaxPool2D())\\n    model.add(tf.keras.layers.Dropout(0.5))\\n\\n    model.add(tf.keras.layers.Dense())\\n    model.add(tf.keras.layers.Dropout(0.5))\\n\\n    model.add(tf.keras.layers.Dense())\\n    model.add(tf.keras.layers.Dense())\\n\\n    model.compile(loss=\"categorical_crossentropy\", optimizer=tf.keras.optimizers.SGD(lr=0.1), metrics=[\\'accuracy\\'])\\n    return model'"
            ]
          },
          "execution_count": 38,
          "metadata": {},
          "output_type": "execute_result"
        }
      ],
      "source": [
        "\"\"\"def alexnet(input_shape):\n",
        "    model = tf.keras.Sequential()\n",
        "    model.add(tf.keras.layers.Conv2D(filters=6, kernel_size=(5,5), stride=(1,1), activation=\"relu\", input_shape=input_shape))\n",
        "    model.add(tf.keras.layers.MaxPool2D(pool_size=(2,2), strides=(2,2)))\n",
        "\n",
        "    model.add(tf.keras.layers.Conv2D(filters=6, kernel_size=(5, 5), stride=(1,1), activation=\"relu\"))\n",
        "    model.add(tf.keras.layers.MaxPool2D(pool_size=(2,2), strides=(2,2)))\n",
        "\n",
        "    model.add(tf.keras.layers.Conv2D(filters=12, kernel_size=(2,2), stride=(1,1), activation=\"relu\"))\n",
        "    model.add(tf.keras.layers.Conv2D(filters=12, kernel_size=(2,2), stride=(1,1), activation=\"relu\"))\n",
        "    model.add(tf.keras.layers.Conv2D(filters=12, kernel_size=(2,2), stride=(1,1), activation=\"relu\"))\n",
        "\n",
        "    model.add(tf.keras.layers.MaxPool2D())\n",
        "    model.add(tf.keras.layers.Dropout(0.5))\n",
        "\n",
        "    model.add(tf.keras.layers.Dense())\n",
        "    model.add(tf.keras.layers.Dropout(0.5))\n",
        "\n",
        "    model.add(tf.keras.layers.Dense())\n",
        "    model.add(tf.keras.layers.Dense())\n",
        "\n",
        "    model.compile(loss=\"categorical_crossentropy\", optimizer=tf.keras.optimizers.SGD(lr=0.1), metrics=['accuracy'])\n",
        "    return model\"\"\""
      ]
    },
    {
      "cell_type": "code",
      "execution_count": null,
      "metadata": {
        "id": "lWlSyEzhJX1x"
      },
      "outputs": [],
      "source": []
    },
    {
      "cell_type": "code",
      "execution_count": 39,
      "metadata": {
        "colab": {
          "base_uri": "https://localhost:8080/"
        },
        "id": "TzAa_7ZmGDOC",
        "outputId": "ab5428a5-6fab-41eb-c928-7e69c6c3c3ef"
      },
      "outputs": [],
      "source": [
        "lenet_5 = lenet5(input_shape)\n"
      ]
    },
    {
      "cell_type": "code",
      "execution_count": 41,
      "metadata": {
        "colab": {
          "base_uri": "https://localhost:8080/"
        },
        "id": "n6o0MrrBceMn",
        "outputId": "d306eab8-9d5d-45ef-e846-573aa9296780"
      },
      "outputs": [
        {
          "name": "stdout",
          "output_type": "stream",
          "text": [
            "Epoch 1/15\n",
            "\u001b[1m938/938\u001b[0m \u001b[32m━━━━━━━━━━━━━━━━━━━━\u001b[0m\u001b[37m\u001b[0m \u001b[1m50s\u001b[0m 53ms/step - accuracy: 0.9823 - loss: 0.0566\n",
            "Epoch 2/15\n",
            "\u001b[1m938/938\u001b[0m \u001b[32m━━━━━━━━━━━━━━━━━━━━\u001b[0m\u001b[37m\u001b[0m \u001b[1m50s\u001b[0m 53ms/step - accuracy: 0.9863 - loss: 0.0443\n",
            "Epoch 3/15\n",
            "\u001b[1m938/938\u001b[0m \u001b[32m━━━━━━━━━━━━━━━━━━━━\u001b[0m\u001b[37m\u001b[0m \u001b[1m50s\u001b[0m 53ms/step - accuracy: 0.9895 - loss: 0.0342\n",
            "Epoch 4/15\n",
            "\u001b[1m938/938\u001b[0m \u001b[32m━━━━━━━━━━━━━━━━━━━━\u001b[0m\u001b[37m\u001b[0m \u001b[1m50s\u001b[0m 53ms/step - accuracy: 0.9899 - loss: 0.0327\n",
            "Epoch 5/15\n",
            "\u001b[1m938/938\u001b[0m \u001b[32m━━━━━━━━━━━━━━━━━━━━\u001b[0m\u001b[37m\u001b[0m \u001b[1m49s\u001b[0m 53ms/step - accuracy: 0.9908 - loss: 0.0295\n",
            "Epoch 6/15\n",
            "\u001b[1m938/938\u001b[0m \u001b[32m━━━━━━━━━━━━━━━━━━━━\u001b[0m\u001b[37m\u001b[0m \u001b[1m50s\u001b[0m 53ms/step - accuracy: 0.9917 - loss: 0.0277\n",
            "Epoch 7/15\n",
            "\u001b[1m938/938\u001b[0m \u001b[32m━━━━━━━━━━━━━━━━━━━━\u001b[0m\u001b[37m\u001b[0m \u001b[1m50s\u001b[0m 53ms/step - accuracy: 0.9927 - loss: 0.0244\n",
            "Epoch 8/15\n",
            "\u001b[1m938/938\u001b[0m \u001b[32m━━━━━━━━━━━━━━━━━━━━\u001b[0m\u001b[37m\u001b[0m \u001b[1m50s\u001b[0m 53ms/step - accuracy: 0.9927 - loss: 0.0234\n",
            "Epoch 9/15\n",
            "\u001b[1m938/938\u001b[0m \u001b[32m━━━━━━━━━━━━━━━━━━━━\u001b[0m\u001b[37m\u001b[0m \u001b[1m50s\u001b[0m 54ms/step - accuracy: 0.9927 - loss: 0.0224\n",
            "Epoch 10/15\n",
            "\u001b[1m938/938\u001b[0m \u001b[32m━━━━━━━━━━━━━━━━━━━━\u001b[0m\u001b[37m\u001b[0m \u001b[1m51s\u001b[0m 54ms/step - accuracy: 0.9941 - loss: 0.0183\n",
            "Epoch 11/15\n",
            "\u001b[1m938/938\u001b[0m \u001b[32m━━━━━━━━━━━━━━━━━━━━\u001b[0m\u001b[37m\u001b[0m \u001b[1m51s\u001b[0m 55ms/step - accuracy: 0.9940 - loss: 0.0183\n",
            "Epoch 12/15\n",
            "\u001b[1m938/938\u001b[0m \u001b[32m━━━━━━━━━━━━━━━━━━━━\u001b[0m\u001b[37m\u001b[0m \u001b[1m48s\u001b[0m 51ms/step - accuracy: 0.9937 - loss: 0.0191\n",
            "Epoch 13/15\n",
            "\u001b[1m938/938\u001b[0m \u001b[32m━━━━━━━━━━━━━━━━━━━━\u001b[0m\u001b[37m\u001b[0m \u001b[1m49s\u001b[0m 52ms/step - accuracy: 0.9945 - loss: 0.0180\n",
            "Epoch 14/15\n",
            "\u001b[1m938/938\u001b[0m \u001b[32m━━━━━━━━━━━━━━━━━━━━\u001b[0m\u001b[37m\u001b[0m \u001b[1m48s\u001b[0m 51ms/step - accuracy: 0.9953 - loss: 0.0142\n",
            "Epoch 15/15\n",
            "\u001b[1m938/938\u001b[0m \u001b[32m━━━━━━━━━━━━━━━━━━━━\u001b[0m\u001b[37m\u001b[0m \u001b[1m48s\u001b[0m 52ms/step - accuracy: 0.9950 - loss: 0.0165\n"
          ]
        }
      ],
      "source": [
        "history = lenet_5.fit(x_train, y_train, epochs=15, batch_size=64, verbose=1)"
      ]
    },
    {
      "cell_type": "code",
      "execution_count": 42,
      "metadata": {
        "colab": {
          "base_uri": "https://localhost:8080/"
        },
        "id": "7-SgGKLrczXE",
        "outputId": "d97431e9-bb8c-4051-a368-2ccbdf77e685"
      },
      "outputs": [
        {
          "data": {
            "text/plain": [
              "{'accuracy': [0.9840166568756104,\n",
              "  0.9870833158493042,\n",
              "  0.9890000224113464,\n",
              "  0.989883303642273,\n",
              "  0.9906499981880188,\n",
              "  0.9915333390235901,\n",
              "  0.9924833178520203,\n",
              "  0.9926833510398865,\n",
              "  0.9930833578109741,\n",
              "  0.9936833381652832,\n",
              "  0.9940500259399414,\n",
              "  0.9939833283424377,\n",
              "  0.9939000010490417,\n",
              "  0.994700014591217,\n",
              "  0.9951000213623047],\n",
              " 'loss': [0.05166753754019737,\n",
              "  0.04265771433711052,\n",
              "  0.03585334122180939,\n",
              "  0.03322320058941841,\n",
              "  0.03037051111459732,\n",
              "  0.026874544098973274,\n",
              "  0.02522975020110607,\n",
              "  0.024194752797484398,\n",
              "  0.021694889292120934,\n",
              "  0.019577929750084877,\n",
              "  0.018665459007024765,\n",
              "  0.018849074840545654,\n",
              "  0.018904604017734528,\n",
              "  0.01582307554781437,\n",
              "  0.01582973450422287]}"
            ]
          },
          "execution_count": 42,
          "metadata": {},
          "output_type": "execute_result"
        }
      ],
      "source": [
        "history.history"
      ]
    },
    {
      "cell_type": "code",
      "execution_count": 43,
      "metadata": {
        "colab": {
          "base_uri": "https://localhost:8080/"
        },
        "id": "VA7yFblOft5Q",
        "outputId": "9598df66-d51a-4ad0-9788-26f99a2df32a"
      },
      "outputs": [
        {
          "name": "stdout",
          "output_type": "stream",
          "text": [
            "\u001b[1m79/79\u001b[0m \u001b[32m━━━━━━━━━━━━━━━━━━━━\u001b[0m\u001b[37m\u001b[0m \u001b[1m4s\u001b[0m 38ms/step - accuracy: 0.9943 - loss: 0.0199\n"
          ]
        },
        {
          "data": {
            "text/plain": [
              "[0.01655437983572483, 0.9952999949455261]"
            ]
          },
          "execution_count": 43,
          "metadata": {},
          "output_type": "execute_result"
        }
      ],
      "source": [
        "result = lenet_5.evaluate(x_test, y_test, batch_size=128)\n",
        "result"
      ]
    },
    {
      "cell_type": "code",
      "execution_count": 44,
      "metadata": {
        "colab": {
          "base_uri": "https://localhost:8080/",
          "height": 465
        },
        "id": "FtTXUmNegm5A",
        "outputId": "558376de-5184-4ced-ce08-299ce6f1c9e3"
      },
      "outputs": [
        {
          "name": "stdout",
          "output_type": "stream",
          "text": [
            "\u001b[1m1/1\u001b[0m \u001b[32m━━━━━━━━━━━━━━━━━━━━\u001b[0m\u001b[37m\u001b[0m \u001b[1m0s\u001b[0m 268ms/step\n",
            "7\n"
          ]
        },
        {
          "data": {
            "image/png": "[encoded data removed]",
            "text/plain": [
              "<Figure size 640x480 with 1 Axes>"
            ]
          },
          "metadata": {},
          "output_type": "display_data"
        }
      ],
      "source": [
        "# Plot the Image\n",
        "image_index = 2507\n",
        "plt.imshow(x_test[image_index].reshape(28,28), cmap='Greys')\n",
        "\n",
        "# Make Prediction\n",
        "pred = lenet_5.predict(x_test[image_index].reshape(1, 28, 28, 1 ))\n",
        "print(pred.argmax())"
      ]
    },
    {
      "cell_type": "code",
      "execution_count": 46,
      "metadata": {
        "id": "GSjdmDzphT2r"
      },
      "outputs": [],
      "source": [
        "lenet_5.save(\"lenet_5_v2.keras\")"
      ]
    },
    {
      "cell_type": "code",
      "execution_count": null,
      "metadata": {},
      "outputs": [],
      "source": []
    },
    {
      "cell_type": "code",
      "execution_count": null,
      "metadata": {},
      "outputs": [],
      "source": []
    }
  ],
  "metadata": {
    "colab": {
      "provenance": []
    },
    "kernelspec": {
      "display_name": "Python 3",
      "name": "python3"
    },
    "language_info": {
      "codemirror_mode": {
        "name": "ipython",
        "version": 3
      },
      "file_extension": ".py",
      "mimetype": "text/x-python",
      "name": "python",
      "nbconvert_exporter": "python",
      "pygments_lexer": "ipython3",
      "version": "3.10.6"
    }
  },
  "nbformat": 4,
  "nbformat_minor": 0
}
